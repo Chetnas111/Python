{
  "cells": [
    {
      "cell_type": "code",
      "execution_count": null,
      "metadata": {
        "id": "EMddmQTfh8vz"
      },
      "outputs": [],
      "source": [
        "import random\n",
        "import smtplib\n",
        "from email.mime.text import MIMEText\n",
        "from email.mime.multipart import MIMEMultipart"
      ]
    },
    {
      "cell_type": "markdown",
      "source": [
        "##Problem Statement:\n",
        "\n",
        "You are tasked with developing an OTP (One-Time Password) verification system in Python. The system should generate a 6-digit OTP and send it to the user's email address for verification. Upon receiving the OTP, the user should enter it into the system for validation. If the entered OTP matches the generated OTP, access should be granted; otherwise, access should be denied."
      ],
      "metadata": {
        "id": "pKMuJ0zjA1vP"
      }
    },
    {
      "cell_type": "code",
      "source": [
        "import random\n",
        "import string\n",
        "\n",
        "def generate_otp():\n",
        "    \"\"\"Generate a 6-digit OTP.\"\"\"\n",
        "    digits = string.digits\n",
        "    otp = ''.join(random.choice(digits) for _ in range(6))\n",
        "    return otp\n",
        "\n",
        "def send_otp(email, otp):\n",
        "    \"\"\"Simulate sending OTP to email (print to console for simulation).\"\"\"\n",
        "    print(f\"OTP sent to {email}: {otp}\")\n",
        "\n",
        "def prompt_user_for_otp():\n",
        "    \"\"\"Prompt the user to enter the OTP.\"\"\"\n",
        "    return input(\"Enter the 6-digit OTP sent to your email: \")\n",
        "\n",
        "def verify_otp(otp, entered_otp):\n",
        "    \"\"\"Verify if entered OTP matches the generated OTP.\"\"\"\n",
        "    return otp == entered_otp\n",
        "\n",
        "def main():\n",
        "    # Simulated email address (you can replace this with your actual email)\n",
        "    email = \"user@example.com\"\n",
        "\n",
        "    otp = generate_otp()\n",
        "    send_otp(email, otp)\n",
        "\n",
        "    max_attempts = 3\n",
        "    attempts = 0\n",
        "    while attempts < max_attempts:\n",
        "        entered_otp = prompt_user_for_otp()\n",
        "        if verify_otp(otp, entered_otp):\n",
        "            print(\"OTP verification successful. Access granted!\")\n",
        "            break\n",
        "        else:\n",
        "            attempts += 1\n",
        "            remaining_attempts = max_attempts - attempts\n",
        "            if remaining_attempts > 0:\n",
        "                print(f\"Invalid OTP. {remaining_attempts} attempts remaining. Please try again.\")\n",
        "            else:\n",
        "                print(\"Max attempts reached. Access denied.\")\n",
        "                break\n",
        "\n",
        "if __name__ == \"__main__\":\n",
        "    main()"
      ],
      "metadata": {
        "colab": {
          "base_uri": "https://localhost:8080/"
        },
        "id": "m_dRFCe8AI4I",
        "outputId": "400be397-ed71-472c-959c-c6b515f135fb"
      },
      "execution_count": null,
      "outputs": [
        {
          "output_type": "stream",
          "name": "stdout",
          "text": [
            "OTP sent to user@example.com: 981254\n",
            "Enter the 6-digit OTP sent to your email: 67788\n",
            "Invalid OTP. 2 attempts remaining. Please try again.\n",
            "Enter the 6-digit OTP sent to your email: 981254\n",
            "OTP verification successful. Access granted!\n"
          ]
        }
      ]
    },
    {
      "cell_type": "code",
      "source": [],
      "metadata": {
        "id": "gz3l8UkZ9OyX"
      },
      "execution_count": null,
      "outputs": []
    }
  ],
  "metadata": {
    "colab": {
      "provenance": [],
      "toc_visible": true
    },
    "kernelspec": {
      "display_name": "Python 3",
      "name": "python3"
    },
    "language_info": {
      "name": "python"
    }
  },
  "nbformat": 4,
  "nbformat_minor": 0
}